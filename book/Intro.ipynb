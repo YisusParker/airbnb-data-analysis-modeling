{
 "cells": [
  {
   "cell_type": "markdown",
   "id": "64d83215",
   "metadata": {},
   "source": [
    "# **Introducción**"
   ]
  }
 ],
 "metadata": {
  "kernelspec": {
   "display_name": "testml_env",
   "language": "python",
   "name": "python3"
  },
  "language_info": {
   "name": "python",
   "version": "3.8.20"
  }
 },
 "nbformat": 4,
 "nbformat_minor": 5
}
